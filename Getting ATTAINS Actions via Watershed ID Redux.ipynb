{
 "cells": [
  {
   "cell_type": "code",
   "execution_count": 1,
   "metadata": {},
   "outputs": [],
   "source": [
    "!pip install --quiet arcgis\n",
    "!pip install --quiet ipython\n",
    "!pip install --quiet ipywidgets "
   ]
  },
  {
   "cell_type": "markdown",
   "metadata": {},
   "source": [
    "## Setup supporting packages"
   ]
  },
  {
   "cell_type": "code",
   "execution_count": 2,
   "metadata": {},
   "outputs": [],
   "source": [
    "from IPython.display import display, HTML\n",
    "\n",
    "from arcgis.gis import GIS\n",
    "from arcgis.features import FeatureLayer\n",
    "from arcgis.geocoding import geocode\n",
    "import pandas as pd\n",
    "\n",
    "import requests"
   ]
  },
  {
   "cell_type": "markdown",
   "metadata": {},
   "source": [
    "## HUC12 of interest"
   ]
  },
  {
   "cell_type": "code",
   "execution_count": 3,
   "metadata": {},
   "outputs": [],
   "source": [
    "#huc12 = '051302030106' # Tennessee\n",
    "#huc12 = '020700100204' #DC\n",
    "#huc12 = '020700100103' #DC and VA\n",
    "#huc12 = '031501060703' #Alpine, al\n",
    "huc12 = '071000041003' #Des Moines, Iowa"
   ]
  },
  {
   "cell_type": "markdown",
   "metadata": {},
   "source": [
    "# Query ArcGIS based watershed web service"
   ]
  },
  {
   "cell_type": "code",
   "execution_count": 4,
   "metadata": {},
   "outputs": [
    {
     "data": {
      "text/html": [
       "<div>\n",
       "<style scoped>\n",
       "    .dataframe tbody tr th:only-of-type {\n",
       "        vertical-align: middle;\n",
       "    }\n",
       "\n",
       "    .dataframe tbody tr th {\n",
       "        vertical-align: top;\n",
       "    }\n",
       "\n",
       "    .dataframe thead th {\n",
       "        text-align: right;\n",
       "    }\n",
       "</style>\n",
       "<table border=\"1\" class=\"dataframe\">\n",
       "  <thead>\n",
       "    <tr style=\"text-align: right;\">\n",
       "      <th></th>\n",
       "      <th>AREAACRES</th>\n",
       "      <th>AREASQKM</th>\n",
       "      <th>HUC12</th>\n",
       "      <th>NAME</th>\n",
       "      <th>OBJECTID</th>\n",
       "      <th>SHAPE</th>\n",
       "      <th>STATES</th>\n",
       "    </tr>\n",
       "  </thead>\n",
       "  <tbody>\n",
       "    <tr>\n",
       "      <th>0</th>\n",
       "      <td>20123.473587</td>\n",
       "      <td>81.4368</td>\n",
       "      <td>071000041003</td>\n",
       "      <td>Saylor Creek-Des Moines River</td>\n",
       "      <td>49388</td>\n",
       "      <td>{\"rings\": [[[-93.6192024086201, 41.72991864688...</td>\n",
       "      <td>IA</td>\n",
       "    </tr>\n",
       "  </tbody>\n",
       "</table>\n",
       "</div>"
      ],
      "text/plain": [
       "      AREAACRES  AREASQKM         HUC12                           NAME  \\\n",
       "0  20123.473587   81.4368  071000041003  Saylor Creek-Des Moines River   \n",
       "\n",
       "   OBJECTID                                              SHAPE STATES  \n",
       "0     49388  {\"rings\": [[[-93.6192024086201, 41.72991864688...     IA  "
      ]
     },
     "metadata": {},
     "output_type": "display_data"
    }
   ],
   "source": [
    "huc_result = None\n",
    "\n",
    "huc_ags_sevice_url = 'https://inlandwaters.geoplatform.gov/arcgis/rest/services/NHDPlus/WatershedBoundaryDataset/MapServer/10'\n",
    "huc12_conus = FeatureLayer(huc_ags_sevice_url)\n",
    "\n",
    "huc_result = huc12_conus.query(where=\"HUC12='\" + huc12 + \"'\", \n",
    "                                    out_fields='HUC12,Name,AREAACRES,AREASQKM,STATES',out_sr=4326)\n",
    "\n",
    "if huc_result == None or huc_result.sdf.empty:\n",
    "    print(\"\\nUnable to locate HUC12 information for \" + huc12)\n",
    "else:    \n",
    "    display(huc_result.sdf)"
   ]
  },
  {
   "cell_type": "markdown",
   "metadata": {},
   "source": [
    "## Display watershed result on map"
   ]
  },
  {
   "cell_type": "code",
   "execution_count": 5,
   "metadata": {},
   "outputs": [
    {
     "data": {
      "application/vnd.jupyter.widget-view+json": {
       "model_id": "9fdb65870cdd46f4a87d8fc23a8db776",
       "version_major": 2,
       "version_minor": 0
      },
      "text/plain": [
       "MapView(layout=Layout(height='400px', width='100%'))"
      ]
     },
     "metadata": {},
     "output_type": "display_data"
    },
    {
     "data": {
      "text/html": [
       "<div class=\"map-static-img-preview-5c6506c1-88e1-44a1-ac68-b43d493e23fc\"><img src=\"\"></img></div>"
      ],
      "text/plain": [
       "<IPython.core.display.HTML object>"
      ]
     },
     "metadata": {},
     "output_type": "display_data"
    }
   ],
   "source": [
    "if huc_result == None:\n",
    "    print(\"\\nSkipping as there is no data for HUC12= \" + huc12)\n",
    "else:\n",
    "    gis = GIS()\n",
    "    map1 = gis.map()\n",
    "    map1.basemap = \"gray\"\n",
    "    map1.height = '650px'\n",
    "    map1.clear_graphics()\n",
    "\n",
    "    symbol = {\n",
    "      \"type\": \"esriSFS\",\n",
    "      \"color\": [230, 76, 0, 255],\n",
    "      \"outline\": {\n",
    "        \"type\": \"esriSLS\",\n",
    "        \"color\": [0, 0, 0, 255],\n",
    "        \"width\": 0.75,\n",
    "        \"style\": \"esriSLSSolid\"\n",
    "      },\n",
    "      \"style\": \"esriSFSSolid\"\n",
    "    }\n",
    "\n",
    "    map1.draw(huc_result,symbol=symbol)\n",
    "    map1.extent = huc_result.sdf.spatial.full_extent\n",
    "\n",
    "    display(map1)\n",
    "        \n",
    "    huc_alpha_symbol = {\n",
    "      \"type\": \"esriSFS\",\n",
    "      \"color\": [230, 76, 0, 50],\n",
    "      \"outline\": {\n",
    "        \"type\": \"esriSLS\",\n",
    "        \"color\": [0, 0, 0, 255],\n",
    "        \"width\": 0.75,\n",
    "        \"style\": \"esriSLSSolid\"\n",
    "      },\n",
    "      \"style\": \"esriSFSSolid\"\n",
    "    }"
   ]
  },
  {
   "cell_type": "markdown",
   "metadata": {},
   "source": [
    "## Retrieve assessment units from ATTAINS HUC12 web service"
   ]
  },
  {
   "cell_type": "code",
   "execution_count": 6,
   "metadata": {},
   "outputs": [
    {
     "name": "stdout",
     "output_type": "stream",
     "text": [
      "\n",
      "Web service url = https://attains.epa.gov/attains-public/api/huc12summary?huc=071000041003\n",
      "\n",
      "The following asseessment untis where found for HUC = 071000041003\n",
      "\n",
      "'IA 04-UDM-6316','IA 04-UDM-1211','IA 04-UDM-1210'\n"
     ]
    }
   ],
   "source": [
    "url = 'https://attains.epa.gov/attains-public/api/huc12summary?huc=' + huc12\n",
    "print(\"\\nWeb service url = \" + url)\n",
    "response = requests.get(url)        # To execute get request \n",
    "#print(response.status_code)     # To print http response code  \n",
    "#print(response.text)            # To print formatted JSON response \n",
    "\n",
    "data = response.json()\n",
    "\n",
    "assessmentUnits = data['items'][0]['assessmentUnits']\n",
    "\n",
    "assessmentUnitList = []\n",
    "for unit in assessmentUnits:\n",
    "    assessmentUnitList.append(unit['assessmentUnitId'])\n",
    "\n",
    "assessmentUnitList = \",\".join(map(lambda x: \"'\" + str(x) + \"'\",assessmentUnitList))\n",
    "\n",
    "if assessmentUnitList == \"\":\n",
    "    print(\"\\nNo assessment units for HUC = \" + huc12)\n",
    "else:\n",
    "    print(\"\\nThe following asseessment untis where found for HUC = \" + huc12 + \"\\n\")\n",
    "    print(assessmentUnitList)"
   ]
  },
  {
   "cell_type": "markdown",
   "metadata": {},
   "source": [
    "## Retrieve Org ID information for Assessments"
   ]
  },
  {
   "cell_type": "code",
   "execution_count": 7,
   "metadata": {},
   "outputs": [
    {
     "data": {
      "text/plain": [
       "[('21IOWA', 'IA 04-UDM-1210'),\n",
       " ('21IOWA', 'IA 04-UDM-6316'),\n",
       " ('21IOWA', 'IA 04-UDM-1211')]"
      ]
     },
     "execution_count": 7,
     "metadata": {},
     "output_type": "execute_result"
    }
   ],
   "source": [
    "url = 'https://attains.epa.gov/attains-public/api/assessmentUnits?assessmentUnitIdentifier=' \n",
    "url = url + requests.utils.quote(str(assessmentUnitList).replace(\"'\",\"\"));\n",
    "\n",
    "response = requests.get(url) \n",
    "data = response.json()\n",
    "\n",
    "orgassmnt = [];\n",
    "for org in data[\"items\"]:\n",
    "    for assmnt in org[\"assessmentUnits\"]:\n",
    "       orgassmnt.append((org[\"organizationIdentifier\"],assmnt[\"assessmentUnitIdentifier\"]))\n",
    "\n",
    "orgassmnt"
   ]
  },
  {
   "cell_type": "markdown",
   "metadata": {},
   "source": [
    "## Get the auid level information"
   ]
  },
  {
   "cell_type": "code",
   "execution_count": 11,
   "metadata": {},
   "outputs": [
    {
     "data": {
      "text/html": [
       "<div>\n",
       "<style scoped>\n",
       "    .dataframe tbody tr th:only-of-type {\n",
       "        vertical-align: middle;\n",
       "    }\n",
       "\n",
       "    .dataframe tbody tr th {\n",
       "        vertical-align: top;\n",
       "    }\n",
       "\n",
       "    .dataframe thead th {\n",
       "        text-align: right;\n",
       "    }\n",
       "</style>\n",
       "<table border=\"1\" class=\"dataframe\">\n",
       "  <thead>\n",
       "    <tr style=\"text-align: right;\">\n",
       "      <th></th>\n",
       "      <th>ORGID</th>\n",
       "      <th>AUID</th>\n",
       "      <th>ParameterStatusName</th>\n",
       "      <th>ParamterName</th>\n",
       "    </tr>\n",
       "  </thead>\n",
       "  <tbody>\n",
       "    <tr>\n",
       "      <th>0</th>\n",
       "      <td>21IOWA</td>\n",
       "      <td>IA 04-UDM-1210</td>\n",
       "      <td>Cause</td>\n",
       "      <td>ESCHERICHIA COLI (E. COLI)</td>\n",
       "    </tr>\n",
       "    <tr>\n",
       "      <th>1</th>\n",
       "      <td>21IOWA</td>\n",
       "      <td>IA 04-UDM-1211</td>\n",
       "      <td>Cause</td>\n",
       "      <td>NITRATE</td>\n",
       "    </tr>\n",
       "    <tr>\n",
       "      <th>2</th>\n",
       "      <td>21IOWA</td>\n",
       "      <td>IA 04-UDM-1211</td>\n",
       "      <td>Cause</td>\n",
       "      <td>ESCHERICHIA COLI (E. COLI)</td>\n",
       "    </tr>\n",
       "  </tbody>\n",
       "</table>\n",
       "</div>"
      ],
      "text/plain": [
       "    ORGID            AUID ParameterStatusName                ParamterName\n",
       "0  21IOWA  IA 04-UDM-1210               Cause  ESCHERICHIA COLI (E. COLI)\n",
       "1  21IOWA  IA 04-UDM-1211               Cause                     NITRATE\n",
       "2  21IOWA  IA 04-UDM-1211               Cause  ESCHERICHIA COLI (E. COLI)"
      ]
     },
     "execution_count": 11,
     "metadata": {},
     "output_type": "execute_result"
    }
   ],
   "source": [
    "url = 'https://attains.epa.gov/attains-public/api/assessments?'; \n",
    "\n",
    "columns = ['ORGID','AUID','ParameterStatusName','ParameterName'];\n",
    "df = pd.DataFrame(columns=columns);\n",
    "rowi = 0;\n",
    "\n",
    "for item in orgassmnt:\n",
    "    response = requests.get(url + \"organizationId=\" + requests.utils.quote(item[0]) + \"&assessmentUnitIdentifier=\" + requests.utils.quote(item[1])); \n",
    "    data = response.json();\n",
    "    \n",
    "    org = data[\"items\"][0];\n",
    "                            \n",
    "    for assmnt in org[\"assessments\"]:\n",
    "        \n",
    "        for parameter in assmnt[\"parameters\"]:\n",
    "            \n",
    "            df.loc[rowi] = [\n",
    "                 org[\"organizationIdentifier\"]\n",
    "                ,assmnt[\"assessmentUnitIdentifier\"]\n",
    "                ,parameter[\"parameterStatusName\"]\n",
    "                ,parameter[\"parameterName\"]\n",
    "            ];\n",
    "            rowi = rowi + 1;\n",
    "        \n",
    "df"
   ]
  },
  {
   "cell_type": "code",
   "execution_count": null,
   "metadata": {},
   "outputs": [],
   "source": []
  }
 ],
 "metadata": {
  "celltoolbar": "Raw Cell Format",
  "kernelspec": {
   "display_name": "Python 3",
   "language": "python",
   "name": "python3"
  },
  "language_info": {
   "codemirror_mode": {
    "name": "ipython",
    "version": 3
   },
   "file_extension": ".py",
   "mimetype": "text/x-python",
   "name": "python",
   "nbconvert_exporter": "python",
   "pygments_lexer": "ipython3",
   "version": "3.6.8"
  }
 },
 "nbformat": 4,
 "nbformat_minor": 2
}
