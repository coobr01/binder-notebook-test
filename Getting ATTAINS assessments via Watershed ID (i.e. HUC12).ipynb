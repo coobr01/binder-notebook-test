{
 "cells": [
  {
   "cell_type": "markdown",
   "metadata": {},
   "source": [
    "## Setup supporting packages"
   ]
  },
  {
   "cell_type": "code",
   "execution_count": 1,
   "metadata": {},
   "outputs": [],
   "source": [
    "from IPython.display import display, HTML\n",
    "\n",
    "from arcgis.gis import GIS\n",
    "from arcgis.features import FeatureLayer\n",
    "from arcgis.geocoding import geocode\n",
    "\n",
    "import requests"
   ]
  },
  {
   "cell_type": "markdown",
   "metadata": {},
   "source": [
    "## HUC12 of interest"
   ]
  },
  {
   "cell_type": "code",
   "execution_count": 2,
   "metadata": {},
   "outputs": [],
   "source": [
    "#huc12 = '051302030106' # Tennessee\n",
    "#huc12 = '020700100204' #DC\n",
    "#huc12 = '020700100103' #DC and VA\n",
    "#huc12 = '031501060703' #Alpine, al\n",
    "huc12 = '071000041003' #Des Moines, Iowa"
   ]
  },
  {
   "cell_type": "markdown",
   "metadata": {},
   "source": [
    "# Query ArcGIS based watershed web service"
   ]
  },
  {
   "cell_type": "code",
   "execution_count": 3,
   "metadata": {},
   "outputs": [
    {
     "data": {
      "text/html": [
       "<div>\n",
       "<style scoped>\n",
       "    .dataframe tbody tr th:only-of-type {\n",
       "        vertical-align: middle;\n",
       "    }\n",
       "\n",
       "    .dataframe tbody tr th {\n",
       "        vertical-align: top;\n",
       "    }\n",
       "\n",
       "    .dataframe thead th {\n",
       "        text-align: right;\n",
       "    }\n",
       "</style>\n",
       "<table border=\"1\" class=\"dataframe\">\n",
       "  <thead>\n",
       "    <tr style=\"text-align: right;\">\n",
       "      <th></th>\n",
       "      <th>AREAACRES</th>\n",
       "      <th>AREASQKM</th>\n",
       "      <th>HUC12</th>\n",
       "      <th>NAME</th>\n",
       "      <th>OBJECTID</th>\n",
       "      <th>SHAPE</th>\n",
       "      <th>STATES</th>\n",
       "    </tr>\n",
       "  </thead>\n",
       "  <tbody>\n",
       "    <tr>\n",
       "      <th>0</th>\n",
       "      <td>20123.473587</td>\n",
       "      <td>81.4368</td>\n",
       "      <td>071000041003</td>\n",
       "      <td>Saylor Creek-Des Moines River</td>\n",
       "      <td>49388</td>\n",
       "      <td>{\"rings\": [[[-93.6192024086201, 41.72991864688...</td>\n",
       "      <td>IA</td>\n",
       "    </tr>\n",
       "  </tbody>\n",
       "</table>\n",
       "</div>"
      ],
      "text/plain": [
       "      AREAACRES  AREASQKM         HUC12                           NAME  \\\n",
       "0  20123.473587   81.4368  071000041003  Saylor Creek-Des Moines River   \n",
       "\n",
       "   OBJECTID                                              SHAPE STATES  \n",
       "0     49388  {\"rings\": [[[-93.6192024086201, 41.72991864688...     IA  "
      ]
     },
     "metadata": {},
     "output_type": "display_data"
    }
   ],
   "source": [
    "huc_result = None\n",
    "\n",
    "huc_ags_sevice_url = 'https://inlandwaters.geoplatform.gov/arcgis/rest/services/NHDPlus/WatershedBoundaryDataset/MapServer/10'\n",
    "huc12_conus = FeatureLayer(huc_ags_sevice_url)\n",
    "\n",
    "huc_result = huc12_conus.query(where=\"HUC12='\" + huc12 + \"'\", \n",
    "                                    out_fields='HUC12,Name,AREAACRES,AREASQKM,STATES',out_sr=4326)\n",
    "\n",
    "if huc_result == None or huc_result.sdf.empty:\n",
    "    print(\"\\nUnable to locate HUC12 information for \" + huc12)\n",
    "else:    \n",
    "    display(huc_result.sdf)"
   ]
  },
  {
   "cell_type": "markdown",
   "metadata": {},
   "source": [
    "## Display watershed result on map"
   ]
  },
  {
   "cell_type": "code",
   "execution_count": 4,
   "metadata": {},
   "outputs": [
    {
     "data": {
      "application/vnd.jupyter.widget-view+json": {
       "model_id": "1d5a8b986a134684846f52c3080a7caa",
       "version_major": 2,
       "version_minor": 0
      },
      "text/html": [
       "<p>Failed to display Jupyter Widget of type <code>MapView</code>.</p>\n",
       "<p>\n",
       "  If you're reading this message in Jupyter Notebook or JupyterLab, it may mean\n",
       "  that the widgets JavaScript is still loading. If this message persists, it\n",
       "  likely means that the widgets JavaScript library is either not installed or\n",
       "  not enabled. See the <a href=\"https://ipywidgets.readthedocs.io/en/stable/user_install.html\">Jupyter\n",
       "  Widgets Documentation</a> for setup instructions.\n",
       "</p>\n",
       "<p>\n",
       "  If you're reading this message in another notebook frontend (for example, a static\n",
       "  rendering on GitHub or <a href=\"https://nbviewer.jupyter.org/\">NBViewer</a>),\n",
       "  it may mean that your frontend doesn't currently support widgets.\n",
       "</p>\n"
      ],
      "text/plain": [
       "MapView(layout=Layout(height='400px', width='100%'))"
      ]
     },
     "metadata": {},
     "output_type": "display_data"
    }
   ],
   "source": [
    "if huc_result == None:\n",
    "    print(\"\\nSkipping as there is no data for HUC12= \" + huc12)\n",
    "else:\n",
    "    gis = GIS()\n",
    "    map1 = gis.map()\n",
    "    map1.basemap = \"gray\"\n",
    "    map1.height = '650px'\n",
    "    map1.clear_graphics()\n",
    "\n",
    "    symbol = {\n",
    "      \"type\": \"esriSFS\",\n",
    "      \"color\": [230, 76, 0, 255],\n",
    "      \"outline\": {\n",
    "        \"type\": \"esriSLS\",\n",
    "        \"color\": [0, 0, 0, 255],\n",
    "        \"width\": 0.75,\n",
    "        \"style\": \"esriSLSSolid\"\n",
    "      },\n",
    "      \"style\": \"esriSFSSolid\"\n",
    "    }\n",
    "\n",
    "    map1.draw(huc_result,symbol=symbol)\n",
    "\n",
    "    map1.extent = huc_result.sdf.spatial.full_extent\n",
    "\n",
    "    display(map1)"
   ]
  },
  {
   "cell_type": "markdown",
   "metadata": {},
   "source": [
    "## Retrieve assessment units from ATTAINS HUC12 web service"
   ]
  },
  {
   "cell_type": "code",
   "execution_count": 14,
   "metadata": {},
   "outputs": [
    {
     "name": "stdout",
     "output_type": "stream",
     "text": [
      "\n",
      "Web service url = https://attains.epa.gov/attains-public/api/huc12summary?huc=071000041003\n",
      "\n",
      "The following asseessment untis where found for HUC = 071000041003\n",
      "\n",
      "'IA 04-UDM-0010_2','IA 04-UDM-01200-L_0','IA 04-UDM-0010_1'\n",
      "\n"
     ]
    }
   ],
   "source": [
    "url = 'https://attains.epa.gov/attains-public/api/huc12summary?huc=' + huc12\n",
    "print(\"\\nWeb service url = \" + url)\n",
    "response = requests.get(url)        # To execute get request \n",
    "#print(response.status_code)     # To print http response code  \n",
    "#print(response.text)            # To print formatted JSON response \n",
    "\n",
    "data = response.json()\n",
    "\n",
    "assessmentUnits = data['items'][0]['assessmentUnits']\n",
    "\n",
    "assessmentUnitList = []\n",
    "for unit in assessmentUnits:\n",
    "    assessmentUnitList.append(unit['assessmentUnitId'])\n",
    "\n",
    "assessmentUnitList = \",\".join(map(lambda x: \"'\" + str(x) + \"'\",assessmentUnitList))\n",
    "\n",
    "if assessmentUnitList == \"\":\n",
    "    print(\"\\nNo assessment units for HUC = \" + huc12)\n",
    "else:\n",
    "    print(\"\\nThe following asseessment untis where found for HUC = \" + huc12 + \"\\n\")\n",
    "    print(assessmentUnitList + \"\\n\")"
   ]
  },
  {
   "cell_type": "markdown",
   "metadata": {},
   "source": [
    "## Retrieving information about the assessments from the ArcGIS Service table layer"
   ]
  },
  {
   "cell_type": "code",
   "execution_count": 15,
   "metadata": {
    "scrolled": true
   },
   "outputs": [
    {
     "name": "stdout",
     "output_type": "stream",
     "text": [
      "Underlying web service call to inspect the data further is availabe @\n",
      "https://inlandwaters.geoplatform.gov/arcgis/rest/services/BETA/hmw_cip/MapServer/4/query?outFields=*&returnGeometry=false&where=assessmentunitidentifier+in+%28%27IA+04-UDM-0010_2%27%2C%27IA+04-UDM-01200-L_0%27%2C%27IA+04-UDM-0010_1%27%29\n"
     ]
    },
    {
     "data": {
      "text/html": [
       "<div>\n",
       "<style scoped>\n",
       "    .dataframe tbody tr th:only-of-type {\n",
       "        vertical-align: middle;\n",
       "    }\n",
       "\n",
       "    .dataframe tbody tr th {\n",
       "        vertical-align: top;\n",
       "    }\n",
       "\n",
       "    .dataframe thead th {\n",
       "        text-align: right;\n",
       "    }\n",
       "</style>\n",
       "<table border=\"1\" class=\"dataframe\">\n",
       "  <thead>\n",
       "    <tr style=\"text-align: right;\">\n",
       "      <th></th>\n",
       "      <th>OBJECTID</th>\n",
       "      <th>area_count</th>\n",
       "      <th>assessmentunitidentifier</th>\n",
       "      <th>assessmentunitname</th>\n",
       "      <th>hasotherplan</th>\n",
       "      <th>hastmdl</th>\n",
       "      <th>ircategory</th>\n",
       "      <th>isassessed</th>\n",
       "      <th>isimpaired</th>\n",
       "      <th>line_count</th>\n",
       "      <th>on303dlist</th>\n",
       "      <th>organizationid</th>\n",
       "      <th>point_count</th>\n",
       "    </tr>\n",
       "  </thead>\n",
       "  <tbody>\n",
       "    <tr>\n",
       "      <th>0</th>\n",
       "      <td>16729</td>\n",
       "      <td>0</td>\n",
       "      <td>IA 04-UDM-0010_1</td>\n",
       "      <td>Des Moines River</td>\n",
       "      <td>N</td>\n",
       "      <td>Y</td>\n",
       "      <td>None</td>\n",
       "      <td>N</td>\n",
       "      <td>N</td>\n",
       "      <td>1</td>\n",
       "      <td>N</td>\n",
       "      <td>21IOWA</td>\n",
       "      <td>0</td>\n",
       "    </tr>\n",
       "    <tr>\n",
       "      <th>1</th>\n",
       "      <td>16730</td>\n",
       "      <td>0</td>\n",
       "      <td>IA 04-UDM-0010_2</td>\n",
       "      <td>Des Moines River</td>\n",
       "      <td>N</td>\n",
       "      <td>Y</td>\n",
       "      <td>None</td>\n",
       "      <td>N</td>\n",
       "      <td>N</td>\n",
       "      <td>1</td>\n",
       "      <td>N</td>\n",
       "      <td>21IOWA</td>\n",
       "      <td>0</td>\n",
       "    </tr>\n",
       "    <tr>\n",
       "      <th>2</th>\n",
       "      <td>16748</td>\n",
       "      <td>0</td>\n",
       "      <td>IA 04-UDM-01200-L_0</td>\n",
       "      <td>DMACC Pond</td>\n",
       "      <td>N</td>\n",
       "      <td>N</td>\n",
       "      <td>None</td>\n",
       "      <td>N</td>\n",
       "      <td>N</td>\n",
       "      <td>0</td>\n",
       "      <td>N</td>\n",
       "      <td>21IOWA</td>\n",
       "      <td>1</td>\n",
       "    </tr>\n",
       "  </tbody>\n",
       "</table>\n",
       "</div>"
      ],
      "text/plain": [
       "   OBJECTID  area_count assessmentunitidentifier assessmentunitname  \\\n",
       "0     16729           0         IA 04-UDM-0010_1   Des Moines River   \n",
       "1     16730           0         IA 04-UDM-0010_2   Des Moines River   \n",
       "2     16748           0      IA 04-UDM-01200-L_0         DMACC Pond   \n",
       "\n",
       "  hasotherplan hastmdl ircategory isassessed isimpaired  line_count  \\\n",
       "0            N       Y       None          N          N           1   \n",
       "1            N       Y       None          N          N           1   \n",
       "2            N       N       None          N          N           0   \n",
       "\n",
       "  on303dlist organizationid  point_count  \n",
       "0          N         21IOWA            0  \n",
       "1          N         21IOWA            0  \n",
       "2          N         21IOWA            1  "
      ]
     },
     "metadata": {},
     "output_type": "display_data"
    }
   ],
   "source": [
    "query_result_table = None\n",
    "\n",
    "if assessmentUnitList == \"\":\n",
    "    print(\"\\nSince there are No assessment units for HUC = \" + huc12 + \", we're skipping this cell\")\n",
    "else:\n",
    "    from arcgis.geometry import filters\n",
    "\n",
    "    lyr_url = 'https://inlandwaters.geoplatform.gov/arcgis/rest/services/BETA/hmw_cip/MapServer/4'\n",
    "    attains_table_featurelayer = FeatureLayer(lyr_url)\n",
    "    query_result_table = attains_table_featurelayer.query(where=\"assessmentunitidentifier in (\" + assessmentUnitList + \")\", \n",
    "                                                     out_fields='assessmentunitidentifier, assessmentunitname, area_count, line_count, point_count, organizationid, ircategory,isassessed,isimpaired,on303dlist,hastmdl,hasotherplan')\n",
    "       \n",
    "    import urllib.parse\n",
    "    url_str = \"assessmentunitidentifier in (\" + assessmentUnitList + \")\"\n",
    "    encoded_str = urllib.parse.quote_plus(url_str)\n",
    "    print(\"Underlying web service call to inspect the data further is availabe @\")\n",
    "    full_web_service_str = \"https://inlandwaters.geoplatform.gov/arcgis/rest/services/BETA/hmw_cip/MapServer/4/query?outFields=*&returnGeometry=false&where=\" + encoded_str\n",
    "    print (full_web_service_str)\n",
    "    \n",
    "    \n",
    "if assessmentUnitList != \"\":\n",
    "    if query_result_table == None or query_result_table.sdf.empty:\n",
    "        print(\"Unable to query ArcGIS Service table layer.\")\n",
    "    else:\n",
    "       display(query_result_table.sdf)"
   ]
  },
  {
   "cell_type": "markdown",
   "metadata": {},
   "source": [
    "## Retrieve linear features from ArcGIS based on assessment list"
   ]
  },
  {
   "cell_type": "code",
   "execution_count": 7,
   "metadata": {},
   "outputs": [
    {
     "name": "stdout",
     "output_type": "stream",
     "text": [
      "\n",
      "Since there are No assessment units for HUC = 071000041003, we're skipping this cell\n"
     ]
    }
   ],
   "source": [
    "query_lines = None\n",
    "\n",
    "if assessmentUnitList == \"\":\n",
    "    print(\"\\nSince there are No assessment units for HUC = \" + huc12 + \", we're skipping this cell\")\n",
    "else:\n",
    "    linear_lyr_url = 'https://inlandwaters.geoplatform.gov/arcgis/rest/services/BETA/hmw_cip/MapServer/1'\n",
    "    attains_lines_featurelayer = FeatureLayer(linear_lyr_url)\n",
    "    query_lines = attains_lines_featurelayer.query(where=\"assessmentunitidentifier in (\" + assessmentUnitList + \")\", \n",
    "                                                     out_fields='*',out_sr=4326)\n",
    "    if query_lines == None or query_lines.sdf.empty:\n",
    "        print(\"There are 0 linear GIS features available.\")\n",
    "    else:\n",
    "        print(\"There are\" , len(query_lines.features) , \"linear features available.\\n\")\n",
    "        for f in query_lines.features:\n",
    "            print(f.attributes['assessmentunitidentifier'] + \" - \" + f.attributes['assessmentunitname'])"
   ]
  },
  {
   "cell_type": "markdown",
   "metadata": {},
   "source": [
    "## Display linear features on map"
   ]
  },
  {
   "cell_type": "code",
   "execution_count": 8,
   "metadata": {},
   "outputs": [
    {
     "name": "stdout",
     "output_type": "stream",
     "text": [
      "There are 0 linear GIS features available to map.\n"
     ]
    }
   ],
   "source": [
    "if query_lines == None or query_lines.sdf.empty:\n",
    "        print(\"There are 0 linear GIS features available to map.\")\n",
    "else:\n",
    "    gis = GIS()\n",
    "    map3 = gis.map()\n",
    "    map3.basemap = \"gray\"\n",
    "    map3.height = '650px'\n",
    "    map3.clear_graphics()\n",
    "\n",
    "    symbol = {\n",
    "        \"color\": [\n",
    "            0,\n",
    "            92,\n",
    "            230,\n",
    "            255\n",
    "        ],\n",
    "        \"width\": 2,\n",
    "        \"type\": \"esriSLS\",\n",
    "        \"style\": \"esriSLSSolid\"\n",
    "    }\n",
    "\n",
    "    map3.draw(query_lines,symbol=symbol)\n",
    "    map3.extent = query_lines.sdf.spatial.full_extent\n",
    "\n",
    "    display(map3)"
   ]
  },
  {
   "cell_type": "markdown",
   "metadata": {},
   "source": [
    "## Retrieve point features from ArcGIS based on assessment list"
   ]
  },
  {
   "cell_type": "code",
   "execution_count": 9,
   "metadata": {},
   "outputs": [
    {
     "name": "stdout",
     "output_type": "stream",
     "text": [
      "\n",
      "Since there are No assessment units for HUC = 071000041003, we're skipping this cell\n"
     ]
    }
   ],
   "source": [
    "query_points = None\n",
    "\n",
    "\n",
    "if assessmentUnitList == \"\":\n",
    "    print(\"\\nSince there are No assessment units for HUC = \" + huc12 + \", we're skipping this cell\")\n",
    "else:\n",
    "    points_lyr_url = 'https://inlandwaters.geoplatform.gov/arcgis/rest/services/BETA/hmw_cip/MapServer/0'\n",
    "    attains_points_featurelayer = FeatureLayer(points_lyr_url)\n",
    "    query_points = attains_points_featurelayer.query(where=\"assessmentunitidentifier in (\" + assessmentUnitList + \")\", \n",
    "                                                     out_fields='*',out_sr=4326)\n",
    "    if query_points == None or query_points.sdf.empty:\n",
    "        print(\"\\nThere are 0 point GIS features available.\")\n",
    "    else:\n",
    "        print(\"\\nThere are\" , len(query_points.features) , \"point features available.\\n\")\n",
    "        for f in query_points.features:\n",
    "            print(f.attributes['assessmentunitidentifier'] + \" - \" + f.attributes['assessmentunitname'])"
   ]
  },
  {
   "cell_type": "markdown",
   "metadata": {},
   "source": [
    "## Display point features on map"
   ]
  },
  {
   "cell_type": "code",
   "execution_count": 10,
   "metadata": {},
   "outputs": [
    {
     "name": "stdout",
     "output_type": "stream",
     "text": [
      "\n",
      "There are 0 point GIS features available to map.\n"
     ]
    }
   ],
   "source": [
    "if query_points == None or query_points.sdf.empty:\n",
    "        print(\"\\nThere are 0 point GIS features available to map.\")\n",
    "else:\n",
    "    gis = GIS()\n",
    "    map4 = gis.map()\n",
    "    map4.basemap = \"gray\"\n",
    "    map4.height = '650px'\n",
    "    map4.clear_graphics()\n",
    "\n",
    "    symbol = {\n",
    "        \"color\": [\n",
    "            0,\n",
    "            92,\n",
    "            230,\n",
    "            255\n",
    "        ],\n",
    "        \"width\": 2,\n",
    "        \"type\": \"esriSLS\",\n",
    "        \"style\": \"esriSLSSolid\"\n",
    "    }\n",
    "\n",
    "    map4.draw(query_points,symbol=symbol)\n",
    "    map4.extent = query_points.sdf.spatial.full_extent\n",
    "\n",
    "    display(map4)"
   ]
  },
  {
   "cell_type": "markdown",
   "metadata": {},
   "source": [
    "## Retrieve area features from ArcGIS based on assessment list"
   ]
  },
  {
   "cell_type": "code",
   "execution_count": 11,
   "metadata": {},
   "outputs": [
    {
     "name": "stdout",
     "output_type": "stream",
     "text": [
      "\n",
      "Since there are No assessment units for HUC = 071000041003, we're skipping this cell\n"
     ]
    }
   ],
   "source": [
    "query_areas = None\n",
    "\n",
    "\n",
    "if assessmentUnitList == \"\":\n",
    "    print(\"\\nSince there are No assessment units for HUC = \" + huc12 + \", we're skipping this cell\")\n",
    "else:\n",
    "    areas_lyr_url = 'https://inlandwaters.geoplatform.gov/arcgis/rest/services/BETA/hmw_cip/MapServer/2'\n",
    "    attains_areas_featurelayer = FeatureLayer(areas_lyr_url)\n",
    "    query_areas = attains_areas_featurelayer.query(where=\"assessmentunitidentifier in (\" + assessmentUnitList + \")\", \n",
    "                                                     out_fields='*',out_sr=4326)\n",
    "    if query_areas == None or query_areas.sdf.empty:\n",
    "        print(\"\\nThere are 0 area GIS features available.\")\n",
    "    else:\n",
    "        print(\"\\nThere are\" , len(query_areas.features) , \"area features available.\\n\")\n",
    "        for f in query_areas.features:\n",
    "            print(f.attributes['assessmentunitidentifier'] + \" - \" + f.attributes['assessmentunitname'])"
   ]
  },
  {
   "cell_type": "markdown",
   "metadata": {},
   "source": [
    "# Display area features on map"
   ]
  },
  {
   "cell_type": "code",
   "execution_count": 12,
   "metadata": {},
   "outputs": [
    {
     "name": "stdout",
     "output_type": "stream",
     "text": [
      "\n",
      "There are 0 area GIS features available to map.\n"
     ]
    }
   ],
   "source": [
    "if query_areas == None or query_areas.sdf.empty:\n",
    "        print(\"\\nThere are 0 area GIS features available to map.\")\n",
    "else:\n",
    "    gis = GIS()\n",
    "    map5 = gis.map()\n",
    "    map5.basemap = \"gray\"\n",
    "    map5.height = '650px'\n",
    "    map5.clear_graphics()\n",
    "\n",
    "    symbol = {\n",
    "          \"type\": \"esriSFS\",\n",
    "          \"color\": [ 0,\n",
    "                    92,\n",
    "                    230,\n",
    "                    255],\n",
    "          \"outline\": {\n",
    "            \"type\": \"esriSLS\",\n",
    "            \"color\": [0, 0, 0, 255],\n",
    "            \"width\": 0.75,\n",
    "            \"style\": \"esriSLSSolid\"\n",
    "          },\n",
    "          \"style\": \"esriSFSSolid\"\n",
    "    }\n",
    "\n",
    "    map5.draw(query_areas,symbol=symbol)\n",
    "    map5.extent = query_areas.sdf.spatial.full_extent\n",
    "\n",
    "    display(map5)"
   ]
  }
 ],
 "metadata": {
  "celltoolbar": "Raw Cell Format",
  "kernelspec": {
   "display_name": "Python 3",
   "language": "python",
   "name": "python3"
  },
  "language_info": {
   "codemirror_mode": {
    "name": "ipython",
    "version": 3
   },
   "file_extension": ".py",
   "mimetype": "text/x-python",
   "name": "python",
   "nbconvert_exporter": "python",
   "pygments_lexer": "ipython3",
   "version": "3.6.6"
  }
 },
 "nbformat": 4,
 "nbformat_minor": 2
}
