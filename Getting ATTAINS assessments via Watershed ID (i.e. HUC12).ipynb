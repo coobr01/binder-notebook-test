{
 "cells": [
  {
   "cell_type": "code",
   "execution_count": 6,
   "metadata": {},
   "outputs": [
    {
     "name": "stdout",
     "output_type": "stream",
     "text": "gis)\n  Using cached https://files.pythonhosted.org/packages/b1/08/ad1ae7262c8146bee3be360cc766d0261037a90b44872b080a53aaed4e84/keyring-19.2.0-py2.py3-none-any.whl\nCollecting pyshp<2,>=1.2.11 (from arcgis)\nRequirement already satisfied: ipywidgets>=7 in c:\\users\\bcooper\\appdata\\roaming\\python\\python36\\site-packages (from arcgis) (7.0.3)\nRequirement already satisfied: six in c:\\users\\bcooper\\appdata\\roaming\\python\\python36\\site-packages (from arcgis) (1.13.0)\nRequirement already satisfied: matplotlib in c:\\program files (x86)\\microsoft visual studio\\shared\\anaconda3_64\\lib\\site-packages (from arcgis) (2.2.2)\nRequirement already satisfied: jupyterlab in c:\\program files (x86)\\microsoft visual studio\\shared\\anaconda3_64\\lib\\site-packages (from arcgis) (0.32.1)\nRequirement already satisfied: numpy in c:\\program files (x86)\\microsoft visual studio\\shared\\anaconda3_64\\lib\\site-packages (from arcgis) (1.14.3)\nRequirement already satisfied: notebook>=4.4.1 in c:\\program files (x86)\\microsoft visual studio\\shared\\anaconda3_64\\lib\\site-packages (from widgetsnbextension>=3->arcgis) (5.5.0)\nRequirement already satisfied: python-dateutil>=2.5.0 in c:\\program files (x86)\\microsoft visual studio\\shared\\anaconda3_64\\lib\\site-packages (from pandas>=0.23->arcgis) (2.7.3)\nRequirement already satisfied: pytz>=2011k in c:\\program files (x86)\\microsoft visual studio\\shared\\anaconda3_64\\lib\\site-packages (from pandas>=0.23->arcgis) (2018.4)\nCollecting pywin32-ctypes!=0.1.0,!=0.1.1; sys_platform == \"win32\" (from keyring->arcgis)\n  Using cached https://files.pythonhosted.org/packages/9e/4b/3ab2720f1fa4b4bc924ef1932b842edf10007e4547ea8157b0b9fc78599a/pywin32_ctypes-0.2.0-py2.py3-none-any.whl\nRequirement already satisfied: entrypoints in c:\\program files (x86)\\microsoft visual studio\\shared\\anaconda3_64\\lib\\site-packages (from keyring->arcgis) (0.2.3)\nRequirement already satisfied: traitlets>=4.3.1 in c:\\program files (x86)\\microsoft visual studio\\shared\\anaconda3_64\\lib\\site-packages (from ipywidgets>=7->arcgis) (4.3.2)\nRequirement already satisfied: ipython>=4.0.0; python_version >= \"3.3\" in c:\\program files (x86)\\microsoft visual studio\\shared\\anaconda3_64\\lib\\site-packages (from ipywidgets>=7->arcgis) (6.4.0)\nRequirement already satisfied: nbformat>=4.2.0 in c:\\program files (x86)\\microsoft visual studio\\shared\\anaconda3_64\\lib\\site-packages (from ipywidgets>=7->arcgis) (4.4.0)\nRequirement already satisfied: ipykernel>=4.5.1 in c:\\program files (x86)\\microsoft visual studio\\shared\\anaconda3_64\\lib\\site-packages (from ipywidgets>=7->arcgis) (4.8.2)\nRequirement already satisfied: cycler>=0.10 in c:\\program files (x86)\\microsoft visual studio\\shared\\anaconda3_64\\lib\\site-packages (from matplotlib->arcgis) (0.10.0)\nRequirement already satisfied: pyparsing!=2.0.4,!=2.1.2,!=2.1.6,>=2.0.1 in c:\\program files (x86)\\microsoft visual studio\\shared\\anaconda3_64\\lib\\site-packages (from matplotlib->arcgis) (2.2.0)\nRequirement already satisfied: kiwisolver>=1.0.1 in c:\\program files (x86)\\microsoft visual studio\\shared\\anaconda3_64\\lib\\site-packages (from matplotlib->arcgis) (1.0.1)\nRequirement already satisfied: jupyterlab_launcher<0.11.0,>=0.10.0 in c:\\program files (x86)\\microsoft visual studio\\shared\\anaconda3_64\\lib\\site-packages (from jupyterlab->arcgis) (0.10.5)\nRequirement already satisfied: ipython_genutils in c:\\program files (x86)\\microsoft visual studio\\shared\\anaconda3_64\\lib\\site-packages (from jupyterlab->arcgis) (0.2.0)\nRequirement already satisfied: jupyter-client>=5.2.0 in c:\\program files (x86)\\microsoft visual studio\\shared\\anaconda3_64\\lib\\site-packages (from notebook>=4.4.1->widgetsnbextension>=3->arcgis) (5.2.3)\nRequirement already satisfied: pyzmq>=17 in c:\\program files (x86)\\microsoft visual studio\\shared\\anaconda3_64\\lib\\site-packages (from notebook>=4.4.1->widgetsnbextension>=3->arcgis) (17.0.0)\nRequirement already satisfied: tornado>=4 in c:\\program files (x86)\\microsoft visual studio\\shared\\anaconda3_64\\lib\\site-packages (from notebook>=4.4.1->widgetsnbextension>=3->arcgis) (5.0.2)\nRequirement already satisfied: nbconvert in c:\\program files (x86)\\microsoft visual studio\\shared\\anaconda3_64\\lib\\site-packages (from notebook>=4.4.1->widgetsnbextension>=3->arcgis) (5.3.1)\nRequirement already satisfied: jupyter-core>=4.4.0 in c:\\program files (x86)\\microsoft visual studio\\shared\\anaconda3_64\\lib\\site-packages (from notebook>=4.4.1->widgetsnbextension>=3->arcgis) (4.4.0)\nRequirement already satisfied: terminado>=0.8.1 in c:\\program files (x86)\\microsoft visual studio\\shared\\anaconda3_64\\lib\\site-packages (from notebook>=4.4.1->widgetsnbextension>=3->arcgis) (0.8.1)\nRequirement already satisfied: jinja2 in c:\\program files (x86)\\microsoft visual studio\\shared\\anaconda3_64\\lib\\site-packages (from notebook>=4.4.1->widgetsnbextension>=3->arcgis) (2.10)\nRequirement already satisfied: Send2Trash in c:\\program files (x86)\\microsoft visual studio\\shared\\anaconda3_64\\lib\\site-packages (from notebook>=4.4.1->widgetsnbextension>=3->arcgis) (1.5.0)\nRequirement already satisfied: decorator in c:\\program files (x86)\\microsoft visual studio\\shared\\anaconda3_64\\lib\\site-packages (from traitlets>=4.3.1->ipywidgets>=7->arcgis) (4.3.0)\nRequirement already satisfied: simplegeneric>0.8 in c:\\program files (x86)\\microsoft visual studio\\shared\\anaconda3_64\\lib\\site-packages (from ipython>=4.0.0; python_version >= \"3.3\"->ipywidgets>=7->arcgis) (0.8.1)\nRequirement already satisfied: jedi>=0.10 in c:\\program files (x86)\\microsoft visual studio\\shared\\anaconda3_64\\lib\\site-packages (from ipython>=4.0.0; python_version >= \"3.3\"->ipywidgets>=7->arcgis) (0.12.0)\nRequirement already satisfied: pygments in c:\\program files (x86)\\microsoft visual studio\\shared\\anaconda3_64\\lib\\site-packages (from ipython>=4.0.0; python_version >= \"3.3\"->ipywidgets>=7->arcgis) (2.2.0)\nRequirement already satisfied: prompt-toolkit<2.0.0,>=1.0.15 in c:\\program files (x86)\\microsoft visual studio\\shared\\anaconda3_64\\lib\\site-packages (from ipython>=4.0.0; python_version >= \"3.3\"->ipywidgets>=7->arcgis) (1.0.15)\nRequirement already satisfied: pickleshare in c:\\program files (x86)\\microsoft visual studio\\shared\\anaconda3_64\\lib\\site-packages (from ipython>=4.0.0; python_version >= \"3.3\"->ipywidgets>=7->arcgis) (0.7.4)\nRequirement already satisfied: backcall in c:\\program files (x86)\\microsoft visual studio\\shared\\anaconda3_64\\lib\\site-packages (from ipython>=4.0.0; python_version >= \"3.3\"->ipywidgets>=7->arcgis) (0.1.0)\nRequirement already satisfied: setuptools>=18.5 in c:\\program files (x86)\\microsoft visual studio\\shared\\anaconda3_64\\lib\\site-packages (from ipython>=4.0.0; python_version >= \"3.3\"->ipywidgets>=7->arcgis) (39.1.0)\nRequirement already satisfied: colorama; sys_platform == \"win32\" in c:\\users\\bcooper\\appdata\\roaming\\python\\python36\\site-packages (from ipython>=4.0.0; python_version >= \"3.3\"->ipywidgets>=7->arcgis) (0.4.1)\nRequirement already satisfied: jsonschema!=2.5.0,>=2.4 in c:\\program files (x86)\\microsoft visual studio\\shared\\anaconda3_64\\lib\\site-packages (from nbformat>=4.2.0->ipywidgets>=7->arcgis) (2.6.0)\nRequirement already satisfied: mistune>=0.7.4 in c:\\program files (x86)\\microsoft visual studio\\shared\\anaconda3_64\\lib\\site-packages (from nbconvert->notebook>=4.4.1->widgetsnbextension>=3->arcgis) (0.8.3)\nRequirement already satisfied: bleach in c:\\program files (x86)\\microsoft visual studio\\shared\\anaconda3_64\\lib\\site-packages (from nbconvert->notebook>=4.4.1->widgetsnbextension>=3->arcgis) (2.1.3)\nRequirement already satisfied: pandocfilters>=1.4.1 in c:\\program files (x86)\\microsoft visual studio\\shared\\anaconda3_64\\lib\\site-packages (from nbconvert->notebook>=4.4.1->widgetsnbextension>=3->arcgis) (1.4.2)\nRequirement already satisfied: testpath in c:\\program files (x86)\\microsoft visual studio\\shared\\anaconda3_64\\lib\\site-packages (from nbconvert->notebook>=4.4.1->widgetsnbextension>=3->arcgis) (0.3.1)\nRequirement already satisfied: MarkupSafe>=0.23 in c:\\program files (x86)\\microsoft visual studio\\shared\\anaconda3_64\\lib\\site-packages (from jinja2->notebook>=4.4.1->widgetsnbextension>=3->arcgis) (1.0)\nRequirement already satisfied: parso>=0.2.0 in c:\\program files (x86)\\microsoft visual studio\\shared\\anaconda3_64\\lib\\site-packages (from jedi>=0.10->ipython>=4.0.0; python_version >= \"3.3\"->ipywidgets>=7->arcgis) (0.2.0)\nRequirement already satisfied: wcwidth in c:\\program files (x86)\\microsoft visual studio\\shared\\anaconda3_64\\lib\\site-packages (from prompt-toolkit<2.0.0,>=1.0.15->ipython>=4.0.0; python_version >= \"3.3\"->ipywidgets>=7->arcgis) (0.1.7)\nRequirement already satisfied: html5lib!=1.0b1,!=1.0b2,!=1.0b3,!=1.0b4,!=1.0b5,!=1.0b6,!=1.0b7,!=1.0b8,>=0.99999999pre in c:\\program files (x86)\\microsoft visual studio\\shared\\anaconda3_64\\lib\\site-packages (from bleach->nbconvert->notebook>=4.4.1->widgetsnbextension>=3->arcgis) (1.0.1)\nRequirement already satisfied: webencodings in c:\\program files (x86)\\microsoft visual studio\\shared\\anaconda3_64\\lib\\site-packages (from html5lib!=1.0b1,!=1.0b2,!=1.0b3,!=1.0b4,!=1.0b5,!=1.0b6,!=1.0b7,!=1.0b8,>=0.99999999pre->bleach->nbconvert->notebook>=4.4.1->widgetsnbextension>=3->arcgis) (0.5.1)\nInstalling collected packages: winkerberos, pywin32-ctypes, keyring, pyshp, arcgis\ndistributed 1.21.8 requires msgpack, which is not installed.\nCould not install packages due to an EnvironmentError: [Errno 13] Permission denied: 'C:\\\\Program Files (x86)\\\\Microsoft Visual Studio\\\\Shared\\\\Anaconda3_64\\\\Lib\\\\site-packages\\\\winkerberos.cp36-win_amd64.pyd'\nConsider using the `--user` option or check the permissions.\n\nYou are using pip version 10.0.1, however version 19.3.1 is available.\nYou should consider upgrading via the 'python -m pip install --upgrade pip' command.\nRequirement already satisfied: ipython in c:\\program files (x86)\\microsoft visual studio\\shared\\anaconda3_64\\lib\\site-packages (6.4.0)\nRequirement already satisfied: backcall in c:\\program files (x86)\\microsoft visual studio\\shared\\anaconda3_64\\lib\\site-packages (from ipython) (0.1.0)\nRequirement already satisfied: jedi>=0.10 in c:\\program files (x86)\\microsoft visual studio\\shared\\anaconda3_64\\lib\\site-packages (from ipython) (0.12.0)\nRequirement already satisfied: traitlets>=4.2 in c:\\program files (x86)\\microsoft visual studio\\shared\\anaconda3_64\\lib\\site-packages (from ipython) (4.3.2)\nRequirement already satisfied: pygments in c:\\program files (x86)\\microsoft visual studio\\shared\\anaconda3_64\\lib\\site-packages (from ipython) (2.2.0)\nRequirement already satisfied: pickleshare in c:\\program files (x86)\\microsoft visual studio\\shared\\anaconda3_64\\lib\\site-packages (from ipython) (0.7.4)\nRequirement already satisfied: simplegeneric>0.8 in c:\\program files (x86)\\microsoft visual studio\\shared\\anaconda3_64\\lib\\site-packages (from ipython) (0.8.1)\nRequirement already satisfied: decorator in c:\\program files (x86)\\microsoft visual studio\\shared\\anaconda3_64\\lib\\site-packages (from ipython) (4.3.0)\nRequirement already satisfied: setuptools>=18.5 in c:\\program files (x86)\\microsoft visual studio\\shared\\anaconda3_64\\lib\\site-packages (from ipython) (39.1.0)\nRequirement already satisfied: colorama; sys_platform == \"win32\" in c:\\users\\bcooper\\appdata\\roaming\\python\\python36\\site-packages (from ipython) (0.4.1)\nRequirement already satisfied: prompt-toolkit<2.0.0,>=1.0.15 in c:\\program files (x86)\\microsoft visual studio\\shared\\anaconda3_64\\lib\\site-packages (from ipython) (1.0.15)\nRequirement already satisfied: parso>=0.2.0 in c:\\program files (x86)\\microsoft visual studio\\shared\\anaconda3_64\\lib\\site-packages (from jedi>=0.10->ipython) (0.2.0)\nRequirement already satisfied: ipython_genutils in c:\\program files (x86)\\microsoft visual studio\\shared\\anaconda3_64\\lib\\site-packages (from traitlets>=4.2->ipython) (0.2.0)\nRequirement already satisfied: six in c:\\users\\bcooper\\appdata\\roaming\\python\\python36\\site-packages (from traitlets>=4.2->ipython) (1.13.0)\nRequirement already satisfied: wcwidth in c:\\program files (x86)\\microsoft visual studio\\shared\\anaconda3_64\\lib\\site-packages (from prompt-toolkit<2.0.0,>=1.0.15->ipython) (0.1.7)\ndistributed 1.21.8 requires msgpack, which is not installed.\nYou are using pip version 10.0.1, however version 19.3.1 is available.\nYou should consider upgrading via the 'python -m pip install --upgrade pip' command.\nRequirement already satisfied: ipywidgets in c:\\users\\bcooper\\appdata\\roaming\\python\\python36\\site-packages (7.0.3)\nRequirement already satisfied: ipykernel>=4.5.1 in c:\\program files (x86)\\microsoft visual studio\\shared\\anaconda3_64\\lib\\site-packages (from ipywidgets) (4.8.2)\nRequirement already satisfied: traitlets>=4.3.1 in c:\\program files (x86)\\microsoft visual studio\\shared\\anaconda3_64\\lib\\site-packages (from ipywidgets) (4.3.2)\nRequirement already satisfied: ipython>=4.0.0; python_version >= \"3.3\" in c:\\program files (x86)\\microsoft visual studio\\shared\\anaconda3_64\\lib\\site-packages (from ipywidgets) (6.4.0)\nRequirement already satisfied: widgetsnbextension~=3.0.0 in c:\\users\\bcooper\\appdata\\roaming\\python\\python36\\site-packages (from ipywidgets) (3.0.6)\nRequirement already satisfied: nbformat>=4.2.0 in c:\\program files (x86)\\microsoft visual studio\\shared\\anaconda3_64\\lib\\site-packages (from ipywidgets) (4.4.0)\nRequirement already satisfied: jupyter_client in c:\\program files (x86)\\microsoft visual studio\\shared\\anaconda3_64\\lib\\site-packages (from ipykernel>=4.5.1->ipywidgets) (5.2.3)\nRequirement already satisfied: tornado>=4.0 in c:\\program files (x86)\\microsoft visual studio\\shared\\anaconda3_64\\lib\\site-packages (from ipykernel>=4.5.1->ipywidgets) (5.0.2)\nRequirement already satisfied: ipython_genutils in c:\\program files (x86)\\microsoft visual studio\\shared\\anaconda3_64\\lib\\site-packages (from traitlets>=4.3.1->ipywidgets) (0.2.0)\nRequirement already satisfied: six in c:\\users\\bcooper\\appdata\\roaming\\python\\python36\\site-packages (from traitlets>=4.3.1->ipywidgets) (1.13.0)\nRequirement already satisfied: decorator in c:\\program files (x86)\\microsoft visual studio\\shared\\anaconda3_64\\lib\\site-packages (from traitlets>=4.3.1->ipywidgets) (4.3.0)\nRequirement already satisfied: setuptools>=18.5 in c:\\program files (x86)\\microsoft visual studio\\shared\\anaconda3_64\\lib\\site-packages (from ipython>=4.0.0; python_version >= \"3.3\"->ipywidgets) (39.1.0)\nRequirement already satisfied: backcall in c:\\program files (x86)\\microsoft visual studio\\shared\\anaconda3_64\\lib\\site-packages (from ipython>=4.0.0; python_version >= \"3.3\"->ipywidgets) (0.1.0)\nRequirement already satisfied: prompt-toolkit<2.0.0,>=1.0.15 in c:\\program files (x86)\\microsoft visual studio\\shared\\anaconda3_64\\lib\\site-packages (from ipython>=4.0.0; python_version >= \"3.3\"->ipywidgets) (1.0.15)\nRequirement already satisfied: jedi>=0.10 in c:\\program files (x86)\\microsoft visual studio\\shared\\anaconda3_64\\lib\\site-packages (from ipython>=4.0.0; python_version >= \"3.3\"->ipywidgets) (0.12.0)\nRequirement already satisfied: pygments in c:\\program files (x86)\\microsoft visual studio\\shared\\anaconda3_64\\lib\\site-packages (from ipython>=4.0.0; python_version >= \"3.3\"->ipywidgets) (2.2.0)\nRequirement already satisfied: colorama; sys_platform == \"win32\" in c:\\users\\bcooper\\appdata\\roaming\\python\\python36\\site-packages (from ipython>=4.0.0; python_version >= \"3.3\"->ipywidgets) (0.4.1)\nRequirement already satisfied: pickleshare in c:\\program files (x86)\\microsoft visual studio\\shared\\anaconda3_64\\lib\\site-packages (from ipython>=4.0.0; python_version >= \"3.3\"->ipywidgets) (0.7.4)\nRequirement already satisfied: simplegeneric>0.8 in c:\\program files (x86)\\microsoft visual studio\\shared\\anaconda3_64\\lib\\site-packages (from ipython>=4.0.0; python_version >= \"3.3\"->ipywidgets) (0.8.1)\nRequirement already satisfied: notebook>=4.4.1 in c:\\program files (x86)\\microsoft visual studio\\shared\\anaconda3_64\\lib\\site-packages (from widgetsnbextension~=3.0.0->ipywidgets) (5.5.0)\nRequirement already satisfied: jsonschema!=2.5.0,>=2.4 in c:\\program files (x86)\\microsoft visual studio\\shared\\anaconda3_64\\lib\\site-packages (from nbformat>=4.2.0->ipywidgets) (2.6.0)\nRequirement already satisfied: jupyter_core in c:\\program files (x86)\\microsoft visual studio\\shared\\anaconda3_64\\lib\\site-packages (from nbformat>=4.2.0->ipywidgets) (4.4.0)\nRequirement already satisfied: pyzmq>=13 in c:\\program files (x86)\\microsoft visual studio\\shared\\anaconda3_64\\lib\\site-packages (from jupyter_client->ipykernel>=4.5.1->ipywidgets) (17.0.0)\nRequirement already satisfied: python-dateutil>=2.1 in c:\\program files (x86)\\microsoft visual studio\\shared\\anaconda3_64\\lib\\site-packages (from jupyter_client->ipykernel>=4.5.1->ipywidgets) (2.7.3)\nRequirement already satisfied: wcwidth in c:\\program files (x86)\\microsoft visual studio\\shared\\anaconda3_64\\lib\\site-packages (from prompt-toolkit<2.0.0,>=1.0.15->ipython>=4.0.0; python_version >= \"3.3\"->ipywidgets) (0.1.7)\nRequirement already satisfied: parso>=0.2.0 in c:\\program files (x86)\\microsoft visual studio\\shared\\anaconda3_64\\lib\\site-packages (from jedi>=0.10->ipython>=4.0.0; python_version >= \"3.3\"->ipywidgets) (0.2.0)\nRequirement already satisfied: nbconvert in c:\\program files (x86)\\microsoft visual studio\\shared\\anaconda3_64\\lib\\site-packages (from notebook>=4.4.1->widgetsnbextension~=3.0.0->ipywidgets) (5.3.1)\nRequirement already satisfied: terminado>=0.8.1 in c:\\program files (x86)\\microsoft visual studio\\shared\\anaconda3_64\\lib\\site-packages (from notebook>=4.4.1->widgetsnbextension~=3.0.0->ipywidgets) (0.8.1)\nRequirement already satisfied: Send2Trash in c:\\program files (x86)\\microsoft visual studio\\shared\\anaconda3_64\\lib\\site-packages (from notebook>=4.4.1->widgetsnbextension~=3.0.0->ipywidgets) (1.5.0)\nRequirement already satisfied: jinja2 in c:\\program files (x86)\\microsoft visual studio\\shared\\anaconda3_64\\lib\\site-packages (from notebook>=4.4.1->widgetsnbextension~=3.0.0->ipywidgets) (2.10)\nRequirement already satisfied: mistune>=0.7.4 in c:\\program files (x86)\\microsoft visual studio\\shared\\anaconda3_64\\lib\\site-packages (from nbconvert->notebook>=4.4.1->widgetsnbextension~=3.0.0->ipywidgets) (0.8.3)\nRequirement already satisfied: entrypoints>=0.2.2 in c:\\program files (x86)\\microsoft visual studio\\shared\\anaconda3_64\\lib\\site-packages (from nbconvert->notebook>=4.4.1->widgetsnbextension~=3.0.0->ipywidgets) (0.2.3)\nRequirement already satisfied: bleach in c:\\program files (x86)\\microsoft visual studio\\shared\\anaconda3_64\\lib\\site-packages (from nbconvert->notebook>=4.4.1->widgetsnbextension~=3.0.0->ipywidgets) (2.1.3)\nRequirement already satisfied: pandocfilters>=1.4.1 in c:\\program files (x86)\\microsoft visual studio\\shared\\anaconda3_64\\lib\\site-packages (from nbconvert->notebook>=4.4.1->widgetsnbextension~=3.0.0->ipywidgets) (1.4.2)\nRequirement already satisfied: testpath in c:\\program files (x86)\\microsoft visual studio\\shared\\anaconda3_64\\lib\\site-packages (from nbconvert->notebook>=4.4.1->widgetsnbextension~=3.0.0->ipywidgets) (0.3.1)\nRequirement already satisfied: MarkupSafe>=0.23 in c:\\program files (x86)\\microsoft visual studio\\shared\\anaconda3_64\\lib\\site-packages (from jinja2->notebook>=4.4.1->widgetsnbextension~=3.0.0->ipywidgets) (1.0)\nRequirement already satisfied: html5lib!=1.0b1,!=1.0b2,!=1.0b3,!=1.0b4,!=1.0b5,!=1.0b6,!=1.0b7,!=1.0b8,>=0.99999999pre in c:\\program files (x86)\\microsoft visual studio\\shared\\anaconda3_64\\lib\\site-packages (from bleach->nbconvert->notebook>=4.4.1->widgetsnbextension~=3.0.0->ipywidgets) (1.0.1)\nRequirement already satisfied: webencodings in c:\\program files (x86)\\microsoft visual studio\\shared\\anaconda3_64\\lib\\site-packages (from html5lib!=1.0b1,!=1.0b2,!=1.0b3,!=1.0b4,!=1.0b5,!=1.0b6,!=1.0b7,!=1.0b8,>=0.99999999pre->bleach->nbconvert->notebook>=4.4.1->widgetsnbextension~=3.0.0->ipywidgets) (0.5.1)\ndistributed 1.21.8 requires msgpack, which is not installed.\nYou are using pip version 10.0.1, however version 19.3.1 is available.\nYou should consider upgrading via the 'python -m pip install --upgrade pip' command.\n"
    }
   ],
   "source": [
    "!pip install arcgis\n",
    "!pip install ipython\n",
    "!pip install ipywidgets  "
   ]
  },
  {
   "cell_type": "markdown",
   "metadata": {},
   "source": [
    "## Setup supporting packages"
   ]
  },
  {
   "cell_type": "code",
   "execution_count": 3,
   "metadata": {},
   "outputs": [
    {
     "ename": "ModuleNotFoundError",
     "evalue": "No module named 'arcgis'",
     "output_type": "error",
     "traceback": [
      "\u001b[1;31m---------------------------------------------------------------------------\u001b[0m",
      "\u001b[1;31mModuleNotFoundError\u001b[0m                       Traceback (most recent call last)",
      "\u001b[1;32m<ipython-input-3-67f69e18955e>\u001b[0m in \u001b[0;36m<module>\u001b[1;34m()\u001b[0m\n\u001b[0;32m      1\u001b[0m \u001b[1;32mfrom\u001b[0m \u001b[0mIPython\u001b[0m\u001b[1;33m.\u001b[0m\u001b[0mdisplay\u001b[0m \u001b[1;32mimport\u001b[0m \u001b[0mdisplay\u001b[0m\u001b[1;33m,\u001b[0m \u001b[0mHTML\u001b[0m\u001b[1;33m\u001b[0m\u001b[0m\n\u001b[0;32m      2\u001b[0m \u001b[1;33m\u001b[0m\u001b[0m\n\u001b[1;32m----> 3\u001b[1;33m \u001b[1;32mfrom\u001b[0m \u001b[0marcgis\u001b[0m\u001b[1;33m.\u001b[0m\u001b[0mgis\u001b[0m \u001b[1;32mimport\u001b[0m \u001b[0mGIS\u001b[0m\u001b[1;33m\u001b[0m\u001b[0m\n\u001b[0m\u001b[0;32m      4\u001b[0m \u001b[1;32mfrom\u001b[0m \u001b[0marcgis\u001b[0m\u001b[1;33m.\u001b[0m\u001b[0mfeatures\u001b[0m \u001b[1;32mimport\u001b[0m \u001b[0mFeatureLayer\u001b[0m\u001b[1;33m\u001b[0m\u001b[0m\n\u001b[0;32m      5\u001b[0m \u001b[1;32mfrom\u001b[0m \u001b[0marcgis\u001b[0m\u001b[1;33m.\u001b[0m\u001b[0mgeocoding\u001b[0m \u001b[1;32mimport\u001b[0m \u001b[0mgeocode\u001b[0m\u001b[1;33m\u001b[0m\u001b[0m\n",
      "\u001b[1;31mModuleNotFoundError\u001b[0m: No module named 'arcgis'"
     ]
    }
   ],
   "source": [
    "from IPython.display import display, HTML\n",
    "\n",
    "from arcgis.gis import GIS\n",
    "from arcgis.features import FeatureLayer\n",
    "from arcgis.geocoding import geocode\n",
    "\n",
    "import requests"
   ]
  },
  {
   "cell_type": "markdown",
   "metadata": {},
   "source": [
    "## HUC12 of interest"
   ]
  },
  {
   "cell_type": "code",
   "execution_count": 4,
   "metadata": {},
   "outputs": [],
   "source": [
    "#huc12 = '051302030106' # Tennessee\n",
    "#huc12 = '020700100204' #DC\n",
    "#huc12 = '020700100103' #DC and VA\n",
    "#huc12 = '031501060703' #Alpine, al\n",
    "huc12 = '071000041003' #Des Moines, Iowa"
   ]
  },
  {
   "cell_type": "markdown",
   "metadata": {},
   "source": [
    "# Query ArcGIS based watershed web service"
   ]
  },
  {
   "cell_type": "code",
   "execution_count": 5,
   "metadata": {},
   "outputs": [
    {
     "ename": "NameError",
     "evalue": "name 'FeatureLayer' is not defined",
     "output_type": "error",
     "traceback": [
      "\u001b[1;31m---------------------------------------------------------------------------\u001b[0m",
      "\u001b[1;31mNameError\u001b[0m                                 Traceback (most recent call last)",
      "\u001b[1;32m<ipython-input-5-dcc09c7b40b2>\u001b[0m in \u001b[0;36m<module>\u001b[1;34m()\u001b[0m\n\u001b[0;32m      2\u001b[0m \u001b[1;33m\u001b[0m\u001b[0m\n\u001b[0;32m      3\u001b[0m \u001b[0mhuc_ags_sevice_url\u001b[0m \u001b[1;33m=\u001b[0m \u001b[1;34m'https://inlandwaters.geoplatform.gov/arcgis/rest/services/NHDPlus/WatershedBoundaryDataset/MapServer/10'\u001b[0m\u001b[1;33m\u001b[0m\u001b[0m\n\u001b[1;32m----> 4\u001b[1;33m \u001b[0mhuc12_conus\u001b[0m \u001b[1;33m=\u001b[0m \u001b[0mFeatureLayer\u001b[0m\u001b[1;33m(\u001b[0m\u001b[0mhuc_ags_sevice_url\u001b[0m\u001b[1;33m)\u001b[0m\u001b[1;33m\u001b[0m\u001b[0m\n\u001b[0m\u001b[0;32m      5\u001b[0m \u001b[1;33m\u001b[0m\u001b[0m\n\u001b[0;32m      6\u001b[0m huc_result = huc12_conus.query(where=\"HUC12='\" + huc12 + \"'\", \n",
      "\u001b[1;31mNameError\u001b[0m: name 'FeatureLayer' is not defined"
     ]
    }
   ],
   "source": [
    "huc_result = None\n",
    "\n",
    "huc_ags_sevice_url = 'https://inlandwaters.geoplatform.gov/arcgis/rest/services/NHDPlus/WatershedBoundaryDataset/MapServer/10'\n",
    "huc12_conus = FeatureLayer(huc_ags_sevice_url)\n",
    "\n",
    "huc_result = huc12_conus.query(where=\"HUC12='\" + huc12 + \"'\", \n",
    "                                    out_fields='HUC12,Name,AREAACRES,AREASQKM,STATES',out_sr=4326)\n",
    "\n",
    "if huc_result == None or huc_result.sdf.empty:\n",
    "    print(\"\\nUnable to locate HUC12 information for \" + huc12)\n",
    "else:    \n",
    "    display(huc_result.sdf)"
   ]
  },
  {
   "cell_type": "markdown",
   "metadata": {},
   "source": [
    "## Display watershed result on map"
   ]
  },
  {
   "cell_type": "code",
   "execution_count": 12,
   "metadata": {},
   "outputs": [
    {
     "data": {
      "application/vnd.jupyter.widget-view+json": {
       "model_id": "ca16f1fd5dc14948888de64520b25a26",
       "version_major": 2,
       "version_minor": 0
      },
      "text/html": [
       "<p>Failed to display Jupyter Widget of type <code>MapView</code>.</p>\n",
       "<p>\n",
       "  If you're reading this message in Jupyter Notebook or JupyterLab, it may mean\n",
       "  that the widgets JavaScript is still loading. If this message persists, it\n",
       "  likely means that the widgets JavaScript library is either not installed or\n",
       "  not enabled. See the <a href=\"https://ipywidgets.readthedocs.io/en/stable/user_install.html\">Jupyter\n",
       "  Widgets Documentation</a> for setup instructions.\n",
       "</p>\n",
       "<p>\n",
       "  If you're reading this message in another notebook frontend (for example, a static\n",
       "  rendering on GitHub or <a href=\"https://nbviewer.jupyter.org/\">NBViewer</a>),\n",
       "  it may mean that your frontend doesn't currently support widgets.\n",
       "</p>\n"
      ],
      "text/plain": [
       "MapView(layout=Layout(height='400px', width='100%'))"
      ]
     },
     "metadata": {},
     "output_type": "display_data"
    },
    {
     "data": {
      "text/html": [
       "<div class=\"map-static-img-preview-24662602-4fdc-458e-8ea7-4e3d63276d49\"><img src=\"\"></img></div>"
      ],
      "text/plain": [
       "<IPython.core.display.HTML object>"
      ]
     },
     "metadata": {},
     "output_type": "display_data"
    }
   ],
   "source": [
    "if huc_result == None:\n",
    "    print(\"\\nSkipping as there is no data for HUC12= \" + huc12)\n",
    "else:\n",
    "    gis = GIS()\n",
    "    map1 = gis.map()\n",
    "    map1.basemap = \"gray\"\n",
    "    map1.height = '650px'\n",
    "    map1.clear_graphics()\n",
    "\n",
    "    symbol = {\n",
    "      \"type\": \"esriSFS\",\n",
    "      \"color\": [230, 76, 0, 255],\n",
    "      \"outline\": {\n",
    "        \"type\": \"esriSLS\",\n",
    "        \"color\": [0, 0, 0, 255],\n",
    "        \"width\": 0.75,\n",
    "        \"style\": \"esriSLSSolid\"\n",
    "      },\n",
    "      \"style\": \"esriSFSSolid\"\n",
    "    }\n",
    "\n",
    "    map1.draw(huc_result,symbol=symbol)\n",
    "    map1.extent = huc_result.sdf.spatial.full_extent\n",
    "\n",
    "    display(map1)\n",
    "        \n",
    "    huc_alpha_symbol = {\n",
    "      \"type\": \"esriSFS\",\n",
    "      \"color\": [230, 76, 0, 50],\n",
    "      \"outline\": {\n",
    "        \"type\": \"esriSLS\",\n",
    "        \"color\": [0, 0, 0, 255],\n",
    "        \"width\": 0.75,\n",
    "        \"style\": \"esriSLSSolid\"\n",
    "      },\n",
    "      \"style\": \"esriSFSSolid\"\n",
    "    }"
   ]
  },
  {
   "cell_type": "markdown",
   "metadata": {},
   "source": [
    "## Retrieve assessment units from ATTAINS HUC12 web service"
   ]
  },
  {
   "cell_type": "code",
   "execution_count": 13,
   "metadata": {},
   "outputs": [
    {
     "name": "stdout",
     "output_type": "stream",
     "text": [
      "\n",
      "Web service url = https://attains.epa.gov/attains-public/api/huc12summary?huc=071000041003\n",
      "\n",
      "The following asseessment untis where found for HUC = 071000041003\n",
      "\n",
      "'IA 04-UDM-6316','IA 04-UDM-1211','IA 04-UDM-1210'\n",
      "\n"
     ]
    }
   ],
   "source": [
    "url = 'https://attains.epa.gov/attains-public/api/huc12summary?huc=' + huc12\n",
    "print(\"\\nWeb service url = \" + url)\n",
    "response = requests.get(url)        # To execute get request \n",
    "#print(response.status_code)     # To print http response code  \n",
    "#print(response.text)            # To print formatted JSON response \n",
    "\n",
    "data = response.json()\n",
    "\n",
    "assessmentUnits = data['items'][0]['assessmentUnits']\n",
    "\n",
    "assessmentUnitList = []\n",
    "for unit in assessmentUnits:\n",
    "    assessmentUnitList.append(unit['assessmentUnitId'])\n",
    "\n",
    "assessmentUnitList = \",\".join(map(lambda x: \"'\" + str(x) + \"'\",assessmentUnitList))\n",
    "\n",
    "if assessmentUnitList == \"\":\n",
    "    print(\"\\nNo assessment units for HUC = \" + huc12)\n",
    "else:\n",
    "    print(\"\\nThe following asseessment untis where found for HUC = \" + huc12 + \"\\n\")\n",
    "    print(assessmentUnitList + \"\\n\")"
   ]
  },
  {
   "cell_type": "markdown",
   "metadata": {},
   "source": [
    "## Retrieving information about the assessments from the ArcGIS Service table layer"
   ]
  },
  {
   "cell_type": "code",
   "execution_count": 15,
   "metadata": {
    "scrolled": true
   },
   "outputs": [
    {
     "name": "stdout",
     "output_type": "stream",
     "text": [
      "Underlying web service call to inspect the data further is availabe @\n",
      "https://inlandwaters.geoplatform.gov/arcgis/rest/services/ATTAINS_Geo/ATTAINS_Assessments/MapServer/4/query?outFields=*&returnGeometry=false&where=assessmentunitidentifier+in+%28%27IA+04-UDM-6316%27%2C%27IA+04-UDM-1211%27%2C%27IA+04-UDM-1210%27%29\n"
     ]
    },
    {
     "data": {
      "text/html": [
       "<div>\n",
       "<style scoped>\n",
       "    .dataframe tbody tr th:only-of-type {\n",
       "        vertical-align: middle;\n",
       "    }\n",
       "\n",
       "    .dataframe tbody tr th {\n",
       "        vertical-align: top;\n",
       "    }\n",
       "\n",
       "    .dataframe thead th {\n",
       "        text-align: right;\n",
       "    }\n",
       "</style>\n",
       "<table border=\"1\" class=\"dataframe\">\n",
       "  <thead>\n",
       "    <tr style=\"text-align: right;\">\n",
       "      <th></th>\n",
       "      <th>OBJECTID</th>\n",
       "      <th>assessmentunitidentifier</th>\n",
       "      <th>assessmentunitname</th>\n",
       "      <th>hasotherplan</th>\n",
       "      <th>hastmdl</th>\n",
       "      <th>ircategory</th>\n",
       "      <th>isassessed</th>\n",
       "      <th>isimpaired</th>\n",
       "      <th>on303dlist</th>\n",
       "      <th>organizationid</th>\n",
       "    </tr>\n",
       "  </thead>\n",
       "  <tbody>\n",
       "    <tr>\n",
       "      <th>0</th>\n",
       "      <td>64447</td>\n",
       "      <td>IA 04-UDM-6316</td>\n",
       "      <td>DMACC Pond</td>\n",
       "      <td>N</td>\n",
       "      <td>N</td>\n",
       "      <td>1</td>\n",
       "      <td>Y</td>\n",
       "      <td>N</td>\n",
       "      <td>N</td>\n",
       "      <td>21IOWA</td>\n",
       "    </tr>\n",
       "    <tr>\n",
       "      <th>1</th>\n",
       "      <td>66042</td>\n",
       "      <td>IA 04-UDM-1211</td>\n",
       "      <td>Des Moines River</td>\n",
       "      <td>N</td>\n",
       "      <td>N</td>\n",
       "      <td>5</td>\n",
       "      <td>Y</td>\n",
       "      <td>Y</td>\n",
       "      <td>Y</td>\n",
       "      <td>21IOWA</td>\n",
       "    </tr>\n",
       "    <tr>\n",
       "      <th>2</th>\n",
       "      <td>66043</td>\n",
       "      <td>IA 04-UDM-1210</td>\n",
       "      <td>Des Moines River</td>\n",
       "      <td>N</td>\n",
       "      <td>N</td>\n",
       "      <td>5</td>\n",
       "      <td>Y</td>\n",
       "      <td>Y</td>\n",
       "      <td>Y</td>\n",
       "      <td>21IOWA</td>\n",
       "    </tr>\n",
       "  </tbody>\n",
       "</table>\n",
       "</div>"
      ],
      "text/plain": [
       "   OBJECTID assessmentunitidentifier assessmentunitname hasotherplan hastmdl  \\\n",
       "0     64447           IA 04-UDM-6316         DMACC Pond            N       N   \n",
       "1     66042           IA 04-UDM-1211   Des Moines River            N       N   \n",
       "2     66043           IA 04-UDM-1210   Des Moines River            N       N   \n",
       "\n",
       "  ircategory isassessed isimpaired on303dlist organizationid  \n",
       "0          1          Y          N          N         21IOWA  \n",
       "1          5          Y          Y          Y         21IOWA  \n",
       "2          5          Y          Y          Y         21IOWA  "
      ]
     },
     "metadata": {},
     "output_type": "display_data"
    }
   ],
   "source": [
    "query_result_table = None\n",
    "\n",
    "if assessmentUnitList == \"\":\n",
    "    print(\"\\nSince there are No assessment units for HUC = \" + huc12 + \", we're skipping this cell\")\n",
    "else:\n",
    "    from arcgis.geometry import filters\n",
    "\n",
    "    lyr_url = 'https://inlandwaters.geoplatform.gov/arcgis/rest/services/ATTAINS_Geo/ATTAINS_Assessments/MapServer/4'\n",
    "    attains_table_featurelayer = FeatureLayer(lyr_url)\n",
    "    query_result_table = attains_table_featurelayer.query(where=\"assessmentunitidentifier in (\" + assessmentUnitList + \")\", \n",
    "                                                     out_fields='assessmentunitidentifier, assessmentunitname, organizationid, ircategory,isassessed,isimpaired,on303dlist,hastmdl,hasotherplan')\n",
    "       \n",
    "    import urllib.parse\n",
    "    url_str = \"assessmentunitidentifier in (\" + assessmentUnitList + \")\"\n",
    "    encoded_str = urllib.parse.quote_plus(url_str)\n",
    "    print(\"Underlying web service call to inspect the data further is availabe @\")\n",
    "    full_web_service_str = \"https://inlandwaters.geoplatform.gov/arcgis/rest/services/ATTAINS_Geo/ATTAINS_Assessments/MapServer/4/query?outFields=*&returnGeometry=false&where=\" + encoded_str\n",
    "    print (full_web_service_str)\n",
    "    \n",
    "    \n",
    "if assessmentUnitList != \"\":\n",
    "    if query_result_table == None or query_result_table.sdf.empty:\n",
    "        print(\"Unable to query ArcGIS Service table layer.\")\n",
    "    else:\n",
    "       display(query_result_table.sdf)"
   ]
  },
  {
   "cell_type": "markdown",
   "metadata": {},
   "source": [
    "## Retrieve linear features from ArcGIS based on assessment list"
   ]
  },
  {
   "cell_type": "code",
   "execution_count": 16,
   "metadata": {},
   "outputs": [
    {
     "name": "stdout",
     "output_type": "stream",
     "text": [
      "There are 2 linear features available.\n",
      "\n",
      "IA 04-UDM-1211 - Des Moines River\n",
      "IA 04-UDM-1210 - Des Moines River\n"
     ]
    }
   ],
   "source": [
    "query_lines = None\n",
    "\n",
    "if assessmentUnitList == \"\":\n",
    "    print(\"\\nSince there are No assessment units for HUC = \" + huc12 + \", we're skipping this cell\")\n",
    "else:\n",
    "    linear_lyr_url = 'https://inlandwaters.geoplatform.gov/arcgis/rest/services/ATTAINS_Geo/ATTAINS_Assessments/MapServer/1'\n",
    "    attains_lines_featurelayer = FeatureLayer(linear_lyr_url)\n",
    "    query_lines = attains_lines_featurelayer.query(where=\"assessmentunitidentifier in (\" + assessmentUnitList + \")\", \n",
    "                                                     out_fields='*',out_sr=4326)\n",
    "    if query_lines == None or query_lines.sdf.empty:\n",
    "        print(\"There are 0 linear GIS features available.\")\n",
    "    else:\n",
    "        print(\"There are\" , len(query_lines.features) , \"linear features available.\\n\")\n",
    "        for f in query_lines.features:\n",
    "            print(f.attributes['assessmentunitidentifier'] + \" - \" + f.attributes['assessmentunitname'])"
   ]
  },
  {
   "cell_type": "markdown",
   "metadata": {},
   "source": [
    "## Display linear features on map"
   ]
  },
  {
   "cell_type": "code",
   "execution_count": 17,
   "metadata": {},
   "outputs": [
    {
     "data": {
      "application/vnd.jupyter.widget-view+json": {
       "model_id": "8ad454f990194dc9b88c767de9e06dd0",
       "version_major": 2,
       "version_minor": 0
      },
      "text/html": [
       "<p>Failed to display Jupyter Widget of type <code>MapView</code>.</p>\n",
       "<p>\n",
       "  If you're reading this message in Jupyter Notebook or JupyterLab, it may mean\n",
       "  that the widgets JavaScript is still loading. If this message persists, it\n",
       "  likely means that the widgets JavaScript library is either not installed or\n",
       "  not enabled. See the <a href=\"https://ipywidgets.readthedocs.io/en/stable/user_install.html\">Jupyter\n",
       "  Widgets Documentation</a> for setup instructions.\n",
       "</p>\n",
       "<p>\n",
       "  If you're reading this message in another notebook frontend (for example, a static\n",
       "  rendering on GitHub or <a href=\"https://nbviewer.jupyter.org/\">NBViewer</a>),\n",
       "  it may mean that your frontend doesn't currently support widgets.\n",
       "</p>\n"
      ],
      "text/plain": [
       "MapView(layout=Layout(height='400px', width='100%'))"
      ]
     },
     "metadata": {},
     "output_type": "display_data"
    },
    {
     "data": {
      "text/html": [
       "<div class=\"map-static-img-preview-1f4bd50b-3582-479c-abcc-c661a3076f36\"><img src=\"\"></img></div>"
      ],
      "text/plain": [
       "<IPython.core.display.HTML object>"
      ]
     },
     "metadata": {},
     "output_type": "display_data"
    }
   ],
   "source": [
    "if query_lines == None or query_lines.sdf.empty:\n",
    "        print(\"There are 0 linear GIS features available to map.\")\n",
    "else:\n",
    "    gis = GIS()\n",
    "    map3 = gis.map()\n",
    "    map3.basemap = \"gray\"\n",
    "    map3.height = '650px'\n",
    "    map3.clear_graphics()\n",
    "\n",
    "    symbol = {\n",
    "        \"color\": [\n",
    "            0,\n",
    "            92,\n",
    "            230,\n",
    "            255\n",
    "        ],\n",
    "        \"width\": 2,\n",
    "        \"type\": \"esriSLS\",\n",
    "        \"style\": \"esriSLSSolid\"\n",
    "    }\n",
    "\n",
    "    map3.draw(huc_result,symbol=huc_alpha_symbol)\n",
    "    map3.draw(query_lines,symbol=symbol)\n",
    "    map3.extent = huc_result.sdf.spatial.full_extent\n",
    "\n",
    "    display(map3)"
   ]
  },
  {
   "cell_type": "markdown",
   "metadata": {},
   "source": [
    "## Retrieve point features from ArcGIS based on assessment list"
   ]
  },
  {
   "cell_type": "code",
   "execution_count": 18,
   "metadata": {},
   "outputs": [
    {
     "name": "stdout",
     "output_type": "stream",
     "text": [
      "\n",
      "There are 1 point features available.\n",
      "\n",
      "IA 04-UDM-6316 - DMACC Pond\n"
     ]
    }
   ],
   "source": [
    "query_points = None\n",
    "\n",
    "\n",
    "if assessmentUnitList == \"\":\n",
    "    print(\"\\nSince there are No assessment units for HUC = \" + huc12 + \", we're skipping this cell\")\n",
    "else:\n",
    "    points_lyr_url = 'https://inlandwaters.geoplatform.gov/arcgis/rest/services/ATTAINS_Geo/ATTAINS_Assessments/MapServer/0'\n",
    "    attains_points_featurelayer = FeatureLayer(points_lyr_url)\n",
    "    query_points = attains_points_featurelayer.query(where=\"assessmentunitidentifier in (\" + assessmentUnitList + \")\", \n",
    "                                                     out_fields='*',out_sr=4326)\n",
    "    if query_points == None or query_points.sdf.empty:\n",
    "        print(\"\\nThere are 0 point GIS features available.\")\n",
    "    else:\n",
    "        print(\"\\nThere are\" , len(query_points.features) , \"point features available.\\n\")\n",
    "        for f in query_points.features:\n",
    "            print(f.attributes['assessmentunitidentifier'] + \" - \" + f.attributes['assessmentunitname'])"
   ]
  },
  {
   "cell_type": "markdown",
   "metadata": {},
   "source": [
    "## Display point features on map"
   ]
  },
  {
   "cell_type": "code",
   "execution_count": 19,
   "metadata": {},
   "outputs": [
    {
     "data": {
      "application/vnd.jupyter.widget-view+json": {
       "model_id": "b31b2e4c1678437aa33ef1a8250f1231",
       "version_major": 2,
       "version_minor": 0
      },
      "text/html": [
       "<p>Failed to display Jupyter Widget of type <code>MapView</code>.</p>\n",
       "<p>\n",
       "  If you're reading this message in Jupyter Notebook or JupyterLab, it may mean\n",
       "  that the widgets JavaScript is still loading. If this message persists, it\n",
       "  likely means that the widgets JavaScript library is either not installed or\n",
       "  not enabled. See the <a href=\"https://ipywidgets.readthedocs.io/en/stable/user_install.html\">Jupyter\n",
       "  Widgets Documentation</a> for setup instructions.\n",
       "</p>\n",
       "<p>\n",
       "  If you're reading this message in another notebook frontend (for example, a static\n",
       "  rendering on GitHub or <a href=\"https://nbviewer.jupyter.org/\">NBViewer</a>),\n",
       "  it may mean that your frontend doesn't currently support widgets.\n",
       "</p>\n"
      ],
      "text/plain": [
       "MapView(layout=Layout(height='400px', width='100%'))"
      ]
     },
     "metadata": {},
     "output_type": "display_data"
    },
    {
     "data": {
      "text/html": [
       "<div class=\"map-static-img-preview-1f9a5262-8413-4dab-96cf-6aa5e0f05122\"><img src=\"\"></img></div>"
      ],
      "text/plain": [
       "<IPython.core.display.HTML object>"
      ]
     },
     "metadata": {},
     "output_type": "display_data"
    }
   ],
   "source": [
    "if query_points == None or query_points.sdf.empty:\n",
    "        print(\"\\nThere are 0 point GIS features available to map.\")\n",
    "else:\n",
    "    gis = GIS()\n",
    "    map4 = gis.map()\n",
    "    map4.basemap = \"gray\"\n",
    "    map4.height = '650px'\n",
    "    map4.clear_graphics()\n",
    "\n",
    "    symbol = {\n",
    "      \"type\": \"esriSMS\",\n",
    "      \"color\": [0, 112, 255, 230],\n",
    "      \"angle\": 0,\n",
    "      \"xoffset\": 0,\n",
    "      \"yoffset\": 0,\n",
    "      \"size\": 12,\n",
    "      \"style\": \"esriSMSCircle\",\n",
    "      \"outline\": {\n",
    "        \"type\": \"esriSLS\",\n",
    "        \"color\": [0, 0, 0, 255],\n",
    "        \"width\": 0.75,\n",
    "        \"style\": \"esriSLSSolid\"\n",
    "      }\n",
    "    }\n",
    "\n",
    "    map4.draw(huc_result,symbol=huc_alpha_symbol)\n",
    "    map4.draw(query_points,symbol=symbol)\n",
    "    map4.extent = huc_result.sdf.spatial.full_extent\n",
    "\n",
    "    display(map4)"
   ]
  },
  {
   "cell_type": "markdown",
   "metadata": {},
   "source": [
    "## Retrieve area features from ArcGIS based on assessment list"
   ]
  },
  {
   "cell_type": "code",
   "execution_count": 20,
   "metadata": {},
   "outputs": [
    {
     "name": "stdout",
     "output_type": "stream",
     "text": [
      "\n",
      "There are 0 area GIS features available.\n"
     ]
    }
   ],
   "source": [
    "query_areas = None\n",
    "\n",
    "\n",
    "if assessmentUnitList == \"\":\n",
    "    print(\"\\nSince there are No assessment units for HUC = \" + huc12 + \", we're skipping this cell\")\n",
    "else:\n",
    "    areas_lyr_url = 'https://inlandwaters.geoplatform.gov/arcgis/rest/services/ATTAINS_Geo/ATTAINS_Assessments/MapServer/2'\n",
    "    attains_areas_featurelayer = FeatureLayer(areas_lyr_url)\n",
    "    query_areas = attains_areas_featurelayer.query(where=\"assessmentunitidentifier in (\" + assessmentUnitList + \")\", \n",
    "                                                     out_fields='*',out_sr=4326)\n",
    "    if query_areas == None or query_areas.sdf.empty:\n",
    "        print(\"\\nThere are 0 area GIS features available.\")\n",
    "    else:\n",
    "        print(\"\\nThere are\" , len(query_areas.features) , \"area features available.\\n\")\n",
    "        for f in query_areas.features:\n",
    "            print(f.attributes['assessmentunitidentifier'] + \" - \" + f.attributes['assessmentunitname'])"
   ]
  },
  {
   "cell_type": "markdown",
   "metadata": {},
   "source": [
    "# Display area features on map"
   ]
  },
  {
   "cell_type": "code",
   "execution_count": 21,
   "metadata": {},
   "outputs": [
    {
     "name": "stdout",
     "output_type": "stream",
     "text": [
      "\n",
      "There are 0 area GIS features available to map.\n"
     ]
    }
   ],
   "source": [
    "if query_areas == None or query_areas.sdf.empty:\n",
    "        print(\"\\nThere are 0 area GIS features available to map.\")\n",
    "else:\n",
    "    gis = GIS()\n",
    "    map5 = gis.map()\n",
    "    map5.basemap = \"gray\"\n",
    "    map5.height = '650px'\n",
    "    map5.clear_graphics()\n",
    "\n",
    "    symbol = {\n",
    "          \"type\": \"esriSFS\",\n",
    "          \"color\": [ 0,\n",
    "                    92,\n",
    "                    230,\n",
    "                    255],\n",
    "          \"outline\": {\n",
    "            \"type\": \"esriSLS\",\n",
    "            \"color\": [0, 0, 0, 255],\n",
    "            \"width\": 0.75,\n",
    "            \"style\": \"esriSLSSolid\"\n",
    "          },\n",
    "          \"style\": \"esriSFSSolid\"\n",
    "    }\n",
    "\n",
    "    map5.draw(huc_result,symbol=huc_alpha_symbol)\n",
    "    map5.draw(query_areas,symbol=symbol)\n",
    "    map5.extent = huc_result.sdf.spatial.full_extent\n",
    "\n",
    "    display(map5)"
   ]
  },
  {
   "cell_type": "code",
   "execution_count": null,
   "metadata": {
    "collapsed": true
   },
   "outputs": [],
   "source": []
  },
  {
   "cell_type": "code",
   "execution_count": null,
   "metadata": {
    "collapsed": true
   },
   "outputs": [],
   "source": []
  }
 ],
 "metadata": {
  "celltoolbar": "Raw Cell Format",
  "kernelspec": {
   "display_name": "Python 3",
   "language": "python",
   "name": "python3"
  },
  "language_info": {
   "codemirror_mode": {
    "name": "ipython",
    "version": 3
   },
   "file_extension": ".py",
   "mimetype": "text/x-python",
   "name": "python",
   "nbconvert_exporter": "python",
   "pygments_lexer": "ipython3",
   "version": "3.6.3"
  }
 },
 "nbformat": 4,
 "nbformat_minor": 2
}